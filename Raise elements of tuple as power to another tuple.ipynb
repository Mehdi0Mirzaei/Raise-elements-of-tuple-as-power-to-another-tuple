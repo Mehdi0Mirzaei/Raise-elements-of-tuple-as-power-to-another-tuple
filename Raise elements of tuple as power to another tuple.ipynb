{
 "cells": [
  {
   "cell_type": "code",
   "execution_count": 23,
   "id": "12166a05",
   "metadata": {},
   "outputs": [
    {
     "name": "stdout",
     "output_type": "stream",
     "text": [
      "The original tuple 1 : (10, 4, 5, 6)\n",
      "The original tuple 2 : (5, 6, 7, 5)\n",
      "The exponentiated tuple : (100000, 4096, 78125, 7776)\n"
     ]
    }
   ],
   "source": [
    "# initialize tuples \n",
    "test_tup1 = (10, 4, 5, 6) \n",
    "test_tup2 = (5, 6, 7, 5) \n",
    " \n",
    "# printing original tuples \n",
    "print(\"The original tuple 1 : \" + str(test_tup1)) \n",
    "print(\"The original tuple 2 : \" + str(test_tup2)) \n",
    " \n",
    "# Tuple exponentiation \n",
    "# using zip() + generator expression \n",
    "res = tuple(ele1 ** ele2 for ele1, ele2 in zip(test_tup1, test_tup2)) \n",
    " \n",
    "# printing result \n",
    "print(\"The exponentiated tuple : \" + str(res)) "
   ]
  },
  {
   "cell_type": "code",
   "execution_count": 24,
   "id": "069650e9",
   "metadata": {},
   "outputs": [
    {
     "name": "stdout",
     "output_type": "stream",
     "text": [
      "The exponentiated tuple : (100000, 4096, 78125, 7776)\n"
     ]
    }
   ],
   "source": [
    "import numpy as np\n",
    " \n",
    "test_tup1 = (10, 4, 5, 6)\n",
    "test_tup2 = (5, 6, 7, 5)\n",
    " \n",
    "# Tuple exponentiation using numpy\n",
    "res = tuple(np.power(test_tup1, test_tup2))\n",
    " \n",
    "# Print the result\n",
    "print(\"The exponentiated tuple : \" + str(res))"
   ]
  },
  {
   "cell_type": "code",
   "execution_count": 25,
   "id": "526c6b8a",
   "metadata": {},
   "outputs": [
    {
     "name": "stdout",
     "output_type": "stream",
     "text": [
      "The original tuple 1 : (10, 4, 5, 6)\n",
      "The original tuple 2 : (5, 6, 7, 5)\n",
      "The exponentiated tuple : [100000, 4096, 78125, 7776]\n"
     ]
    }
   ],
   "source": [
    "# initialize tuples\n",
    "test_tup1 = (10, 4, 5, 6)\n",
    "test_tup2 = (5, 6, 7, 5)\n",
    " \n",
    "# printing original tuples\n",
    "print(\"The original tuple 1 : \" + str(test_tup1))\n",
    "print(\"The original tuple 2 : \" + str(test_tup2))\n",
    " \n",
    "# Tuple exponentiation\n",
    "res=[]\n",
    "for i in range(0,len(test_tup1)):\n",
    "    import operator\n",
    "    res.append(operator.pow(test_tup1[i],test_tup2[i]))\n",
    "# printing result\n",
    "print(\"The exponentiated tuple : \" + str(res))"
   ]
  },
  {
   "cell_type": "code",
   "execution_count": 26,
   "id": "8f29e244",
   "metadata": {},
   "outputs": [
    {
     "name": "stdout",
     "output_type": "stream",
     "text": [
      "The original tuple 1 : (10, 4, 5, 6)\n",
      "The original tuple 2 : (5, 6, 7, 5)\n",
      "The exponentiated tuple : (100000, 4096, 78125, 7776)\n"
     ]
    }
   ],
   "source": [
    "# initialize tuples \n",
    "test_tup1 = (10, 4, 5, 6) \n",
    "test_tup2 = (5, 6, 7, 5) \n",
    " \n",
    "# printing original tuples \n",
    "print(\"The original tuple 1 : \" + str(test_tup1)) \n",
    "print(\"The original tuple 2 : \" + str(test_tup2)) \n",
    " \n",
    "# Tuple exponentiation using list comprehension\n",
    "res = tuple([test_tup1[i] ** test_tup2[i] for i in range(len(test_tup1))])\n",
    " \n",
    "# printing result \n",
    "print(\"The exponentiated tuple : \" + str(res))"
   ]
  },
  {
   "cell_type": "code",
   "execution_count": 27,
   "id": "c9f15ef6",
   "metadata": {},
   "outputs": [
    {
     "name": "stdout",
     "output_type": "stream",
     "text": [
      "The original tuple 1 : (10, 4, 5, 6)\n",
      "The original tuple 2 : (5, 6, 7, 5)\n",
      "The exponentiated tuple : (100000, 4096, 78125, 7776)\n"
     ]
    }
   ],
   "source": [
    "# initialize tuples \n",
    "test_tup1 = (10, 4, 5, 6) \n",
    "test_tup2 = (5, 6, 7, 5) \n",
    " \n",
    "# printing original tuples \n",
    "print(\"The original tuple 1 : \" + str(test_tup1)) \n",
    "print(\"The original tuple 2 : \" + str(test_tup2)) \n",
    " \n",
    "# Tuple exponentiation using map() and lambda function\n",
    "res = tuple(map(lambda x, y: x ** y, test_tup1, test_tup2))\n",
    " \n",
    "# printing result \n",
    "print(\"The exponentiated tuple : \" + str(res))"
   ]
  },
  {
   "cell_type": "code",
   "execution_count": 28,
   "id": "ef8e87a3",
   "metadata": {},
   "outputs": [
    {
     "name": "stdout",
     "output_type": "stream",
     "text": [
      "The original tuple 1 : (10, 4, 5, 6)\n",
      "The original tuple 2 : (5, 6, 7, 5)\n",
      "The exponentiated tuple : [100000, 4096, 78125, 7776]\n"
     ]
    }
   ],
   "source": [
    "def tuple_exponentiation(tup1, tup2):\n",
    "    if len(tup1) == 0:\n",
    "        return []\n",
    "    else:\n",
    "        import operator\n",
    "        return [operator.pow(tup1[0], tup2[0])] + tuple_exponentiation(tup1[1:], tup2[1:])\n",
    " # initialize tuples\n",
    "test_tup1 = (10, 4, 5, 6)\n",
    "test_tup2 = (5, 6, 7, 5)\n",
    " \n",
    "# printing original tuples\n",
    "print(\"The original tuple 1 : \" + str(test_tup1))\n",
    "print(\"The original tuple 2 : \" + str(test_tup2))\n",
    " \n",
    "res = tuple_exponentiation(test_tup1, test_tup2)\n",
    " \n",
    "# printing result\n",
    "print(\"The exponentiated tuple : \" + str(res))\n"
   ]
  },
  {
   "cell_type": "code",
   "execution_count": 29,
   "id": "ed2e1589",
   "metadata": {},
   "outputs": [
    {
     "name": "stdout",
     "output_type": "stream",
     "text": [
      "The original tuple 1 : (10, 4, 5, 6)\n",
      "The original tuple 2 : (5, 6, 7, 5)\n",
      "The exponentiated tuple : [100000, 4096, 78125, 7776]\n"
     ]
    }
   ],
   "source": [
    "def tuple_exponentiation(tup1, tup2):\n",
    "    result = []\n",
    "    for i in range(len(tup1)):\n",
    "        result.append(tup1[i] ** tup2[i])\n",
    "    return result\n",
    " \n",
    "# initialize tuples\n",
    "test_tup1 = (10, 4, 5, 6)\n",
    "test_tup2 = (5, 6, 7, 5)\n",
    " \n",
    "# printing original tuples \n",
    "print(\"The original tuple 1 : \" + str(test_tup1)) \n",
    "print(\"The original tuple 2 : \" + str(test_tup2)) \n",
    " \n",
    "# Tuple exponentiation using map() and lambda function\n",
    "res = tuple_exponentiation(test_tup1, test_tup2)\n",
    " \n",
    "# printing result \n",
    "print(\"The exponentiated tuple : \" + str(res))"
   ]
  },
  {
   "cell_type": "code",
   "execution_count": null,
   "id": "a90f949d",
   "metadata": {},
   "outputs": [],
   "source": []
  }
 ],
 "metadata": {
  "kernelspec": {
   "display_name": "Python 3 (ipykernel)",
   "language": "python",
   "name": "python3"
  },
  "language_info": {
   "codemirror_mode": {
    "name": "ipython",
    "version": 3
   },
   "file_extension": ".py",
   "mimetype": "text/x-python",
   "name": "python",
   "nbconvert_exporter": "python",
   "pygments_lexer": "ipython3",
   "version": "3.9.13"
  }
 },
 "nbformat": 4,
 "nbformat_minor": 5
}
